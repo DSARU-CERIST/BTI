{
  "cells": [
    {
      "cell_type": "code",
      "execution_count": null,
      "metadata": {
        "id": "LCR3aRvLQCH1"
      },
      "outputs": [],
      "source": [
        "import numpy as np\n",
        "import matplotlib.pyplot as plt\n",
        "import cv2\n",
        "\n",
        "import tools\n",
        "\n",
        "plt.rcParams['image.cmap'] = 'gray'\n",
        "plt.rcParams['figure.figsize'] = [5.0, 5.0]\n",
        "plt.rcParams['figure.dpi'] = 140"
      ]
    },
    {
      "cell_type": "code",
      "execution_count": null,
      "metadata": {},
      "outputs": [],
      "source": [
        "im_gray = cv2.imread('/content/drive/MyDrive/CoursBTI/figs/flower.png', cv2.IMREAD_GRAYSCALE)\n",
        "# im_gray = cv2.imread('/content/drive/MyDrive/CoursBTI/figs/flower.png', 0)\n",
        "plt.imshow(im_gray)"
      ]
    }
  ],
  "metadata": {
    "colab": {
      "private_outputs": true,
      "provenance": []
    },
    "kernelspec": {
      "display_name": "Python 3",
      "name": "python3"
    },
    "language_info": {
      "name": "python"
    }
  },
  "nbformat": 4,
  "nbformat_minor": 0
}
